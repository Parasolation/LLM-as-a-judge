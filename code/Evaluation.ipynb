{
 "cells": [
  {
   "cell_type": "code",
   "execution_count": 4,
   "metadata": {},
   "outputs": [],
   "source": [
    "import json\n",
    "import pandas as pd\n",
    "model_path_list = ['/root/.cache/modelscope/hub/qwen/Qwen1___5-7B-Chat', '/root/.cache/modelscope/hub/LLM-Research/Meta-Llama-3-8B-Instruct',\n",
    "                   '/root/.cache/modelscope/hub/qwen/Qwen1___5-14B-Chat', '/root/.cache/modelscope/hub/ZhipuAI/chatglm3-6b', \n",
    "                   '/root/.cache/modelscope/hub/Shanghai_AI_Laboratory/internlm2-chat-7b', '/root/.cache/modelscope/hub/deepseek-ai/deepseek-llm-7b-chat',\n",
    "                   '/root/.cache/modelscope/hub/lockonlvange/autoj-13b-fp16',\n",
    "                   '/root/.cache/huggingface/hub/models--WeOpenML--PandaLM-7B-v1/snapshots/PandaLM']\n",
    "model_name_or_path = model_path_list[-2]\n",
    "model_name = model_name_or_path.rsplit('/', 1)[-1]\n",
    "evaluation_out_path = '/root/LLM-as-a-judge/result/' + model_name + 'autoj_prompt.xlsx'\n",
    "evaluation_result = {}"
   ]
  },
  {
   "cell_type": "code",
   "execution_count": 5,
   "metadata": {},
   "outputs": [],
   "source": [
    "def evaluation(result, total):\n",
    "    if sum(result[2]) != 0:\n",
    "        accuracy = (result[0][0] + result[1][1] + result[2][2])*100/total\n",
    "        p0 = result[0][0]/(result[0][0]+result[1][0]+result[2][0])\n",
    "        p1 = result[1][1]/(result[0][1]+result[1][1]+result[2][1])\n",
    "        p2 = result[2][2]/(result[0][2]+result[1][2]+result[2][2])\n",
    "        p = (p0+p1+p2)/3\n",
    "        r0 = result[0][0]/(sum(result[0]))\n",
    "        r1 = result[1][1]/(sum(result[1]))\n",
    "        r2 = result[2][2]/(sum(result[2]))\n",
    "        r = (r0+r1+r2)/3\n",
    "    else:\n",
    "        accuracy = (result[0][0] + result[1][1])*100/total\n",
    "        p1 = result[0][0]/(result[0][0]+result[1][0])\n",
    "        p2 = result[1][1]/(result[0][1]+result[1][1])\n",
    "        p = (p1+p2)/3\n",
    "        r1 = result[0][0]/(sum(result[0]))\n",
    "        r2 = result[1][1]/(sum(result[1]))\n",
    "        r = (r1+r2)/3\n",
    "    return accuracy, p, r"
   ]
  },
  {
   "cell_type": "code",
   "execution_count": 3,
   "metadata": {},
   "outputs": [
    {
     "ename": "FileNotFoundError",
     "evalue": "[Errno 2] No such file or directory: '/root/auto-j/data/test/autoj-13b-fp16/testdata_pairwise_response.json'",
     "output_type": "error",
     "traceback": [
      "\u001b[0;31m---------------------------------------------------------------------------\u001b[0m",
      "\u001b[0;31mFileNotFoundError\u001b[0m                         Traceback (most recent call last)",
      "Cell \u001b[0;32mIn[3], line 3\u001b[0m\n\u001b[1;32m      1\u001b[0m \u001b[38;5;66;03m# autoj\u001b[39;00m\n\u001b[1;32m      2\u001b[0m response_file_path \u001b[38;5;241m=\u001b[39m \u001b[38;5;124mf\u001b[39m\u001b[38;5;124m'\u001b[39m\u001b[38;5;124m/root/auto-j/data/test/\u001b[39m\u001b[38;5;132;01m{\u001b[39;00mmodel_name\u001b[38;5;132;01m}\u001b[39;00m\u001b[38;5;124m/testdata_pairwise_response.json\u001b[39m\u001b[38;5;124m'\u001b[39m\n\u001b[0;32m----> 3\u001b[0m \u001b[38;5;28;01mwith\u001b[39;00m \u001b[38;5;28;43mopen\u001b[39;49m\u001b[43m(\u001b[49m\u001b[43mresponse_file_path\u001b[49m\u001b[43m,\u001b[49m\u001b[43m \u001b[49m\u001b[38;5;124;43m'\u001b[39;49m\u001b[38;5;124;43mr\u001b[39;49m\u001b[38;5;124;43m'\u001b[39;49m\u001b[43m)\u001b[49m \u001b[38;5;28;01mas\u001b[39;00m f:\n\u001b[1;32m      4\u001b[0m     allin \u001b[38;5;241m=\u001b[39m f\u001b[38;5;241m.\u001b[39mreadlines()\n\u001b[1;32m      5\u001b[0m     correct \u001b[38;5;241m=\u001b[39m \u001b[38;5;241m0\u001b[39m\n",
      "File \u001b[0;32m~/miniconda3/envs/judge/lib/python3.11/site-packages/IPython/core/interactiveshell.py:324\u001b[0m, in \u001b[0;36m_modified_open\u001b[0;34m(file, *args, **kwargs)\u001b[0m\n\u001b[1;32m    317\u001b[0m \u001b[38;5;28;01mif\u001b[39;00m file \u001b[38;5;129;01min\u001b[39;00m {\u001b[38;5;241m0\u001b[39m, \u001b[38;5;241m1\u001b[39m, \u001b[38;5;241m2\u001b[39m}:\n\u001b[1;32m    318\u001b[0m     \u001b[38;5;28;01mraise\u001b[39;00m \u001b[38;5;167;01mValueError\u001b[39;00m(\n\u001b[1;32m    319\u001b[0m         \u001b[38;5;124mf\u001b[39m\u001b[38;5;124m\"\u001b[39m\u001b[38;5;124mIPython won\u001b[39m\u001b[38;5;124m'\u001b[39m\u001b[38;5;124mt let you open fd=\u001b[39m\u001b[38;5;132;01m{\u001b[39;00mfile\u001b[38;5;132;01m}\u001b[39;00m\u001b[38;5;124m by default \u001b[39m\u001b[38;5;124m\"\u001b[39m\n\u001b[1;32m    320\u001b[0m         \u001b[38;5;124m\"\u001b[39m\u001b[38;5;124mas it is likely to crash IPython. If you know what you are doing, \u001b[39m\u001b[38;5;124m\"\u001b[39m\n\u001b[1;32m    321\u001b[0m         \u001b[38;5;124m\"\u001b[39m\u001b[38;5;124myou can use builtins\u001b[39m\u001b[38;5;124m'\u001b[39m\u001b[38;5;124m open.\u001b[39m\u001b[38;5;124m\"\u001b[39m\n\u001b[1;32m    322\u001b[0m     )\n\u001b[0;32m--> 324\u001b[0m \u001b[38;5;28;01mreturn\u001b[39;00m \u001b[43mio_open\u001b[49m\u001b[43m(\u001b[49m\u001b[43mfile\u001b[49m\u001b[43m,\u001b[49m\u001b[43m \u001b[49m\u001b[38;5;241;43m*\u001b[39;49m\u001b[43margs\u001b[49m\u001b[43m,\u001b[49m\u001b[43m \u001b[49m\u001b[38;5;241;43m*\u001b[39;49m\u001b[38;5;241;43m*\u001b[39;49m\u001b[43mkwargs\u001b[49m\u001b[43m)\u001b[49m\n",
      "\u001b[0;31mFileNotFoundError\u001b[0m: [Errno 2] No such file or directory: '/root/auto-j/data/test/autoj-13b-fp16/testdata_pairwise_response.json'"
     ]
    }
   ],
   "source": [
    "# autoj\n",
    "dataset_name = 'autoj'\n",
    "response_file_path = f'/root/auto-j/data/test/{model_name}/testdata_pairwise_response.json'\n",
    "with open(response_file_path, 'r') as f:\n",
    "    allin = f.readlines()\n",
    "    total = 0\n",
    "    format_error = 0\n",
    "    result = [[0 for _ in range(3)] for _ in range(3)]\n",
    "    for line in allin:\n",
    "        line_json = json.loads(line)\n",
    "        label = line_json['label']\n",
    "        pred = line_json['pred_label']\n",
    "        if pred == -1:\n",
    "            format_error += 1\n",
    "            continue\n",
    "        result[label][pred] += 1\n",
    "        total += 1\n",
    "    accuracy, p, r = evaluation(result, total)\n",
    "    print(f'total: {len(allin)}, format error: {format_error}')\n",
    "    print(\"%s accuracy: %.2f, F1 score: %.2f\"%(dataset_name, accuracy, 2*p*r*100/(p+r)))\n",
    "    evaluation_result[dataset_name] = {'accuracy': accuracy, 'f1 score': 2*p*r*100/(p+r), 'total': total, 'format error': format_error}"
   ]
  },
  {
   "cell_type": "code",
   "execution_count": null,
   "metadata": {},
   "outputs": [
    {
     "name": "stdout",
     "output_type": "stream",
     "text": [
      "pandalm acc: 51.65\n",
      "format error: 50, total: 999\n"
     ]
    }
   ],
   "source": [
    "# pandalm\n",
    "dataset_name = 'pandalm'\n",
    "response_file_path = f'/root/PandaLM/data/{model_name}/testset-v1_response.json'\n",
    "with open(response_file_path, 'r') as f:\n",
    "    allin = f.readlines()\n",
    "    correct = 0\n",
    "    format_error = 0\n",
    "    for line in allin:\n",
    "        line_json = json.loads(line)\n",
    "        lable_list = [0, 0, 0]\n",
    "        for i in range(3):\n",
    "            lable_list[line_json[f'annotator{i+1}']] += 1\n",
    "        if(max(lable_list) == 1):\n",
    "            correct += 1\n",
    "        else:\n",
    "            label = (lable_list.index(max(lable_list)) + 2) % 3\n",
    "        pred = line_json['pred_label']\n",
    "        if pred == -1:\n",
    "            format_error += 1\n",
    "            continue\n",
    "        result[label][pred] += 1\n",
    "        total += 1\n",
    "    accuracy, p, r = evaluation(result, total)\n",
    "    print(f'total: {len(allin)}, format error: {format_error}')\n",
    "    print(\"%s accuracy: %.2f, F1 score: %.2f\"%(dataset_name, accuracy, 2*p*r*100/(p+r)))\n",
    "    evaluation_result[dataset_name] = {'accuracy': accuracy, 'f1 score': 2*p*r*100/(p+r), 'total': total, 'format error': format_error}"
   ]
  },
  {
   "cell_type": "code",
   "execution_count": null,
   "metadata": {},
   "outputs": [
    {
     "name": "stdout",
     "output_type": "stream",
     "text": [
      "llmbar_natural acc: 52.00\n",
      "format error: 13, total: 100\n"
     ]
    }
   ],
   "source": [
    "# llmbar_natural\n",
    "dataset_name = 'llmbar_natural'\n",
    "response_file_path = f'/root/LLMBar/Dataset/LLMBar/Natural/{model_name}/dataset_response.json'\n",
    "with open(response_file_path, 'r') as f:\n",
    "    allin = f.readlines()\n",
    "    total = 0\n",
    "    format_error = 0\n",
    "    result = [[0 for _ in range(3)] for _ in range(3)]\n",
    "    for line in allin:\n",
    "        line_json = json.loads(line)\n",
    "        label = line_json['label'] - 1\n",
    "        pred = line_json['pred_label']\n",
    "        if pred == -1:\n",
    "            format_error += 1\n",
    "            continue\n",
    "        result[label][pred] += 1\n",
    "        total += 1\n",
    "    accuracy, p, r = evaluation(result, total)\n",
    "    print(f'total: {len(allin)}, format error: {format_error}')\n",
    "    print(\"%s accuracy: %.2f, F1 score: %.2f\"%(dataset_name, accuracy, 2*p*r*100/(p+r)))\n",
    "    evaluation_result[dataset_name] = {'accuracy': accuracy, 'f1 score': 2*p*r*100/(p+r), 'total': total, 'format error': format_error}"
   ]
  },
  {
   "cell_type": "code",
   "execution_count": 6,
   "metadata": {},
   "outputs": [
    {
     "name": "stdout",
     "output_type": "stream",
     "text": [
      "total: 134, format error: 0\n",
      "llmbar_neighbor accuracy: 20.15, F1 score: 13.83\n"
     ]
    }
   ],
   "source": [
    "# llmbar_neighbor\n",
    "dataset_name = 'llmbar_neighbor'\n",
    "response_file_path = f'/root/LLM-as-a-judge/datasets/LLMBar/Adversarial/Neighbor/{model_name}/dataset_response.json'\n",
    "with open(response_file_path, 'r') as f:\n",
    "    allin = f.readlines()\n",
    "    total = 0\n",
    "    format_error = 0\n",
    "    result = [[0 for _ in range(3)] for _ in range(3)]\n",
    "    for line in allin:\n",
    "        line_json = json.loads(line)\n",
    "        label = line_json['label'] - 1\n",
    "        pred = line_json['pred_label']\n",
    "        if pred == -1:\n",
    "            format_error += 1\n",
    "            continue\n",
    "        result[label][pred] += 1\n",
    "        total += 1\n",
    "    accuracy, p, r = evaluation(result, total)\n",
    "    print(f'total: {len(allin)}, format error: {format_error}')\n",
    "    print(\"%s accuracy: %.2f, F1 score: %.2f\"%(dataset_name, accuracy, 2*p*r*100/(p+r)))\n",
    "    evaluation_result[dataset_name] = {'accuracy': accuracy, 'f1 score': 2*p*r*100/(p+r), 'total': total, 'format error': format_error}"
   ]
  },
  {
   "cell_type": "code",
   "execution_count": null,
   "metadata": {},
   "outputs": [
    {
     "name": "stdout",
     "output_type": "stream",
     "text": [
      "llmbar_gptinst acc: 33.70\n",
      "format error: 11, total: 92\n"
     ]
    }
   ],
   "source": [
    "# llmbar_gptinst\n",
    "dataset_name = 'llmbar_gptinst'\n",
    "response_file_path = f'/root/LLMBar/Dataset/LLMBar/Adversarial/GPTInst/{model_name}/dataset_response.json'\n",
    "with open(response_file_path, 'r') as f:\n",
    "    allin = f.readlines()\n",
    "    total = 0\n",
    "    format_error = 0\n",
    "    result = [[0 for _ in range(3)] for _ in range(3)]\n",
    "    for line in allin:\n",
    "        line_json = json.loads(line)\n",
    "        label = line_json['label'] - 1\n",
    "        pred = line_json['pred_label']\n",
    "        if pred == -1:\n",
    "            format_error += 1\n",
    "            continue\n",
    "        result[label][pred] += 1\n",
    "        total += 1\n",
    "    accuracy, p, r = evaluation(result, total)\n",
    "    print(f'total: {len(allin)}, format error: {format_error}')\n",
    "    print(\"%s accuracy: %.2f, F1 score: %.2f\"%(dataset_name, accuracy, 2*p*r*100/(p+r)))\n",
    "    evaluation_result[dataset_name] = {'accuracy': accuracy, 'f1 score': 2*p*r*100/(p+r), 'total': total, 'format error': format_error}"
   ]
  },
  {
   "cell_type": "code",
   "execution_count": null,
   "metadata": {},
   "outputs": [
    {
     "name": "stdout",
     "output_type": "stream",
     "text": [
      "llmbar_gptout acc: 48.94\n",
      "format error: 4, total: 47\n"
     ]
    }
   ],
   "source": [
    "# llmbar_gptout\n",
    "dataset_name = 'llmbar_gptout'\n",
    "response_file_path = f'/root/LLMBar/Dataset/LLMBar/Adversarial/GPTOut/{model_name}/dataset_response.json'\n",
    "with open(response_file_path, 'r') as f:\n",
    "    allin = f.readlines()\n",
    "    total = 0\n",
    "    format_error = 0\n",
    "    result = [[0 for _ in range(3)] for _ in range(3)]\n",
    "    for line in allin:\n",
    "        line_json = json.loads(line)\n",
    "        label = line_json['label'] - 1\n",
    "        pred = line_json['pred_label']\n",
    "        if pred == -1:\n",
    "            format_error += 1\n",
    "            continue\n",
    "        result[label][pred] += 1\n",
    "        total += 1\n",
    "    accuracy, p, r = evaluation(result, total)\n",
    "    print(f'total: {len(allin)}, format error: {format_error}')\n",
    "    print(\"%s accuracy: %.2f, F1 score: %.2f\"%(dataset_name, accuracy, 2*p*r*100/(p+r)))\n",
    "    evaluation_result[dataset_name] = {'accuracy': accuracy, 'f1 score': 2*p*r*100/(p+r), 'total': total, 'format error': format_error}"
   ]
  },
  {
   "cell_type": "code",
   "execution_count": null,
   "metadata": {},
   "outputs": [
    {
     "name": "stdout",
     "output_type": "stream",
     "text": [
      "llmbar_manual acc: 32.61\n",
      "format error: 2, total: 46\n"
     ]
    }
   ],
   "source": [
    "# llmbar_manual\n",
    "dataset_name = 'llmbar_manual'\n",
    "response_file_path = f'/root/LLMBar/Dataset/LLMBar/Adversarial/Manual/{model_name}/dataset_response.json'\n",
    "with open(response_file_path, 'r') as f:\n",
    "    allin = f.readlines()\n",
    "    total = 0\n",
    "    format_error = 0\n",
    "    result = [[0 for _ in range(3)] for _ in range(3)]\n",
    "    for line in allin:\n",
    "        line_json = json.loads(line)\n",
    "        label = line_json['label'] - 1\n",
    "        pred = line_json['pred_label']\n",
    "        if pred == -1:\n",
    "            format_error += 1\n",
    "            continue\n",
    "        result[label][pred] += 1\n",
    "        total += 1\n",
    "    accuracy, p, r = evaluation(result, total)\n",
    "    print(f'total: {len(allin)}, format error: {format_error}')\n",
    "    print(\"%s accuracy: %.2f, F1 score: %.2f\"%(dataset_name, accuracy, 2*p*r*100/(p+r)))\n",
    "    evaluation_result[dataset_name] = {'accuracy': accuracy, 'f1 score': 2*p*r*100/(p+r), 'total': total, 'format error': format_error}"
   ]
  },
  {
   "cell_type": "code",
   "execution_count": null,
   "metadata": {},
   "outputs": [
    {
     "name": "stdout",
     "output_type": "stream",
     "text": [
      "mt-bench-type1 acc: 36.15\n",
      "format error: 1109, total: 3355\n"
     ]
    }
   ],
   "source": [
    "# mt-bench\n",
    "dataset_name = 'mt-bench'\n",
    "response_file_path = f'/root/dataset/{model_name}/mt_bench_human_response_type1.json'\n",
    "with open(response_file_path, 'r') as f:\n",
    "    allin = f.readlines()\n",
    "    correct = 0\n",
    "    format_error = 0\n",
    "    for line in allin:\n",
    "        line_json = json.loads(line)\n",
    "        winner = line_json['winner']\n",
    "        if winner == 'model_a':\n",
    "            label = 0\n",
    "        elif winner == 'model_b':\n",
    "            label = 1\n",
    "        elif winner == 'tie':\n",
    "            label = 2\n",
    "        else:\n",
    "            print('error')\n",
    "        pred = line_json['pred_label']\n",
    "        if pred == -1:\n",
    "            format_error += 1\n",
    "            continue\n",
    "        result[label][pred] += 1\n",
    "        total += 1\n",
    "    accuracy, p, r = evaluation(result, total)\n",
    "    print(f'total: {len(allin)}, format error: {format_error}')\n",
    "    print(\"%s accuracy: %.2f, F1 score: %.2f\"%(dataset_name, accuracy, 2*p*r*100/(p+r)))\n",
    "    evaluation_result[dataset_name] = {'accuracy': accuracy, 'f1 score': 2*p*r*100/(p+r), 'total': total, 'format error': format_error}"
   ]
  },
  {
   "cell_type": "code",
   "execution_count": null,
   "metadata": {},
   "outputs": [],
   "source": [
    "average = {'f1 score' : 0, 'accuracy': 0, 'total': '', 'format error': 0}\n",
    "for key in evaluation_result:\n",
    "    average['f1 score'] += evaluation_result[key]['f1 score']\n",
    "    average['accuracy'] += evaluation_result[key]['accuracy']\n",
    "    average['format error'] += evaluation_result[key]['format error']\n",
    "average['f1 score'] /= 8\n",
    "average['accuracy'] /= 8\n",
    "average['format error'] /= 8\n",
    "evaluation_result['average'] = average\n",
    "result_df = pd.DataFrame(evaluation_result)\n",
    "result_df.to_excel(evaluation_out_path)"
   ]
  }
 ],
 "metadata": {
  "kernelspec": {
   "display_name": "judge",
   "language": "python",
   "name": "python3"
  },
  "language_info": {
   "codemirror_mode": {
    "name": "ipython",
    "version": 3
   },
   "file_extension": ".py",
   "mimetype": "text/x-python",
   "name": "python",
   "nbconvert_exporter": "python",
   "pygments_lexer": "ipython3",
   "version": "3.11.9"
  }
 },
 "nbformat": 4,
 "nbformat_minor": 2
}
