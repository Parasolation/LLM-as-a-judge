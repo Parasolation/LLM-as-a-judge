{
 "cells": [
  {
   "cell_type": "code",
   "execution_count": 13,
   "metadata": {},
   "outputs": [],
   "source": [
    "import json\n",
    "import pandas as pd\n",
    "model_path_list = ['/root/.cache/modelscope/hub/qwen/Qwen1___5-7B-Chat', '/root/.cache/modelscope/hub/LLM-Research/Meta-Llama-3-8B-Instruct',\n",
    "                   '/root/.cache/modelscope/hub/qwen/Qwen1___5-14B-Chat', '/root/.cache/modelscope/hub/ZhipuAI/chatglm3-6b', \n",
    "                   '/root/.cache/modelscope/hub/Shanghai_AI_Laboratory/internlm2-chat-7b', '/root/.cache/modelscope/hub/deepseek-ai/deepseek-llm-7b-chat',\n",
    "                   '/root/.cache/modelscope/hub/lockonlvange/autoj-13b-fp16',\n",
    "                   '/root/.cache/huggingface/hub/models--WeOpenML--PandaLM-7B-v1/snapshots/PandaLM',\n",
    "                   '/root/finetuned/Qwen1.5-7B-Chat_qlora_epoch_1']\n",
    "model_name_or_path = model_path_list[-1]\n",
    "model_name = model_name_or_path.rsplit('/', 1)[-1]\n",
    "evaluation_out_path = '/root/LLM-as-a-judge/result/' + model_name + '.xlsx'\n",
    "evaluation_result = {}"
   ]
  },
  {
   "cell_type": "code",
   "execution_count": 14,
   "metadata": {},
   "outputs": [],
   "source": [
    "def evaluation(result, total):\n",
    "    if sum(result[0]) != 0:\n",
    "        accuracy = (result[0][0] + result[1][1] + result[2][2])*100/total\n",
    "        p0 = result[0][0]/(result[0][0]+result[1][0]+result[2][0])\n",
    "        p1 = result[1][1]/(result[0][1]+result[1][1]+result[2][1])\n",
    "        p2 = result[2][2]/(result[0][2]+result[1][2]+result[2][2])\n",
    "        p = (p0+p1+p2)/3\n",
    "        r0 = result[0][0]/(sum(result[0]))\n",
    "        r1 = result[1][1]/(sum(result[1]))\n",
    "        r2 = result[2][2]/(sum(result[2]))\n",
    "        r = (r0+r1+r2)/3\n",
    "    else:\n",
    "        accuracy = (result[1][1] + result[2][2])*100/total\n",
    "        p1 = result[1][1]/(result[1][1]+result[2][1])\n",
    "        p2 = result[2][2]/(result[1][2]+result[2][2])\n",
    "        p = (p1+p2)/3\n",
    "        r1 = result[1][1]/(sum(result[1]))\n",
    "        r2 = result[2][2]/(sum(result[2]))\n",
    "        r = (r1+r2)/3\n",
    "    return accuracy, p, r"
   ]
  },
  {
   "cell_type": "code",
   "execution_count": 15,
   "metadata": {},
   "outputs": [
    {
     "name": "stdout",
     "output_type": "stream",
     "text": [
      "total: 1392, format error: 0\n",
      "autoj accuracy: 58.55, F1 score: 55.09\n"
     ]
    }
   ],
   "source": [
    "# autoj\n",
    "dataset_name = 'autoj'\n",
    "response_file_path = f'/root/LLM-as-a-judge/datasets/AutoJ/{model_name}/testdata_pairwise_own_prompt_response.json'\n",
    "with open(response_file_path, 'r') as f:\n",
    "    allin = f.readlines()\n",
    "    format_error = 0\n",
    "    total = 0\n",
    "    result = [[0 for _ in range(3)] for _ in range(3)]\n",
    "    for line in allin:\n",
    "        line_json = json.loads(line)\n",
    "        label = (line_json['label'] + 1) % 3\n",
    "        pred_ = line_json['pred_label']\n",
    "        if '[1]' in pred_:\n",
    "            pred = 1\n",
    "        elif '[2]' in pred_:\n",
    "            pred = 2\n",
    "        elif '[0]' in pred_:\n",
    "            pred = 0\n",
    "        else:\n",
    "            format_error += 1\n",
    "            continue\n",
    "        result[label][pred] += 1\n",
    "        total += 1\n",
    "    accuracy, p, r = evaluation(result, total)\n",
    "    print(f'total: {len(allin)}, format error: {format_error}')\n",
    "    print(\"%s accuracy: %.2f, F1 score: %.2f\"%(dataset_name, accuracy, 2*p*r*100/(p+r)))\n",
    "    evaluation_result[dataset_name] = {'accuracy': accuracy, 'f1 score': 2*p*r*100/(p+r), 'total': total, 'format error': format_error}"
   ]
  },
  {
   "cell_type": "code",
   "execution_count": 16,
   "metadata": {},
   "outputs": [
    {
     "name": "stdout",
     "output_type": "stream",
     "text": [
      "total: 999, format error: 0\n",
      "pandalm accuracy: 78.78, F1 score: 71.72\n"
     ]
    }
   ],
   "source": [
    "# pandalm\n",
    "dataset_name = 'pandalm'\n",
    "response_file_path = f'/root/LLM-as-a-judge/datasets/PandaLM/{model_name}/testset-v1_own_prompt_response.json'\n",
    "with open(response_file_path, 'r') as f:\n",
    "    allin = f.readlines()\n",
    "    total = 0\n",
    "    result = [[0 for _ in range(3)] for _ in range(3)]\n",
    "    format_error = 0\n",
    "    for line in allin:\n",
    "        line_json = json.loads(line)\n",
    "        lable_list = [0, 0, 0]\n",
    "        for i in range(3):\n",
    "            lable_list[line_json[f'annotator{i+1}']] += 1\n",
    "            label = lable_list.index(max(lable_list))\n",
    "        \n",
    "        pred_ = line_json['pred_label']\n",
    "        if '[1]' in pred_:\n",
    "            pred = 1\n",
    "        elif '[2]' in pred_:\n",
    "            pred = 2\n",
    "        elif '[0]' in pred_:\n",
    "            pred = 0\n",
    "        else:\n",
    "            format_error += 1\n",
    "            continue\n",
    "        result[label][pred] += 1\n",
    "        total += 1\n",
    "    accuracy, p, r = evaluation(result, total)\n",
    "    print(f'total: {len(allin)}, format error: {format_error}')\n",
    "    print(\"%s accuracy: %.2f, F1 score: %.2f\"%(dataset_name, accuracy, 2*p*r*100/(p+r)))\n",
    "    evaluation_result[dataset_name] = {'accuracy': accuracy, 'f1 score': 2*p*r*100/(p+r), 'total': total, 'format error': format_error}"
   ]
  },
  {
   "cell_type": "code",
   "execution_count": 17,
   "metadata": {},
   "outputs": [
    {
     "name": "stdout",
     "output_type": "stream",
     "text": [
      "total: 100, format error: 0\n",
      "llmbar_natural accuracy: 81.00, F1 score: 53.95\n"
     ]
    }
   ],
   "source": [
    "# llmbar_natural\n",
    "dataset_name = 'llmbar_natural'\n",
    "response_file_path = f'/root/LLM-as-a-judge/datasets/LLMBar/Natural/{model_name}/dataset_own_prompt_response.json'\n",
    "with open(response_file_path, 'r') as f:\n",
    "    allin = f.readlines()\n",
    "    total = 0\n",
    "    result = [[0 for _ in range(3)] for _ in range(3)]\n",
    "    format_error = 0\n",
    "    for line in allin:\n",
    "        line_json = json.loads(line)\n",
    "        label = line_json['label']\n",
    "        pred_ = line_json['pred_label']\n",
    "        if '[1]' in pred_:\n",
    "            pred = 1\n",
    "        elif '[2]' in pred_:\n",
    "            pred = 2\n",
    "        elif '[0]' in pred_:\n",
    "            pred = 0\n",
    "        else:\n",
    "            format_error += 1\n",
    "            continue\n",
    "        result[label][pred] += 1\n",
    "        total += 1\n",
    "    accuracy, p, r = evaluation(result, total)\n",
    "    print(f'total: {len(allin)}, format error: {format_error}')\n",
    "    print(\"%s accuracy: %.2f, F1 score: %.2f\"%(dataset_name, accuracy, 2*p*r*100/(p+r)))\n",
    "    evaluation_result[dataset_name] = {'accuracy': accuracy, 'f1 score': 2*p*r*100/(p+r), 'total': total, 'format error': format_error}"
   ]
  },
  {
   "cell_type": "code",
   "execution_count": 18,
   "metadata": {},
   "outputs": [
    {
     "name": "stdout",
     "output_type": "stream",
     "text": [
      "total: 134, format error: 0\n",
      "llmbar_neighbor accuracy: 26.87, F1 score: 18.41\n"
     ]
    }
   ],
   "source": [
    "# llmbar_neighbor\n",
    "dataset_name = 'llmbar_neighbor'\n",
    "response_file_path = f'/root/LLM-as-a-judge/datasets/LLMBar/Adversarial/Neighbor/{model_name}/dataset_own_prompt_response.json'\n",
    "with open(response_file_path, 'r') as f:\n",
    "    allin = f.readlines()\n",
    "    total = 0\n",
    "    result = [[0 for _ in range(3)] for _ in range(3)]\n",
    "    format_error = 0\n",
    "    for line in allin:\n",
    "        line_json = json.loads(line)\n",
    "        label = line_json['label']\n",
    "        pred_ = line_json['pred_label']\n",
    "        if '[1]' in pred_:\n",
    "            pred = 1\n",
    "        elif '[2]' in pred_:\n",
    "            pred = 2\n",
    "        elif '[0]' in pred_:\n",
    "            pred = 0\n",
    "        else:\n",
    "            format_error += 1\n",
    "            continue\n",
    "        result[label][pred] += 1\n",
    "        total += 1\n",
    "    accuracy, p, r = evaluation(result, total)\n",
    "    print(f'total: {len(allin)}, format error: {format_error}')\n",
    "    print(\"%s accuracy: %.2f, F1 score: %.2f\"%(dataset_name, accuracy, 2*p*r*100/(p+r)))\n",
    "    evaluation_result[dataset_name] = {'accuracy': accuracy, 'f1 score': 2*p*r*100/(p+r), 'total': total, 'format error': format_error}"
   ]
  },
  {
   "cell_type": "code",
   "execution_count": 19,
   "metadata": {},
   "outputs": [
    {
     "name": "stdout",
     "output_type": "stream",
     "text": [
      "total: 92, format error: 0\n",
      "llmbar_gptinst accuracy: 44.57, F1 score: 29.76\n"
     ]
    }
   ],
   "source": [
    "# llmbar_gptinst\n",
    "dataset_name = 'llmbar_gptinst'\n",
    "response_file_path = f'/root/LLM-as-a-judge/datasets/LLMBar/Adversarial/GPTInst/{model_name}/dataset_own_prompt_response.json'\n",
    "with open(response_file_path, 'r') as f:\n",
    "    allin = f.readlines()\n",
    "    total = 0\n",
    "    result = [[0 for _ in range(3)] for _ in range(3)]\n",
    "    format_error = 0\n",
    "    for line in allin:\n",
    "        line_json = json.loads(line)\n",
    "        label = line_json['label']\n",
    "        pred_ = line_json['pred_label']\n",
    "        if '[1]' in pred_:\n",
    "            pred = 1\n",
    "        elif '[2]' in pred_:\n",
    "            pred = 2\n",
    "        elif '[0]' in pred_:\n",
    "            pred = 0\n",
    "        else:\n",
    "            format_error += 1\n",
    "            continue\n",
    "        result[label][pred] += 1\n",
    "        total += 1\n",
    "    accuracy, p, r = evaluation(result, total)\n",
    "    print(f'total: {len(allin)}, format error: {format_error}')\n",
    "    print(\"%s accuracy: %.2f, F1 score: %.2f\"%(dataset_name, accuracy, 2*p*r*100/(p+r)))\n",
    "    evaluation_result[dataset_name] = {'accuracy': accuracy, 'f1 score': 2*p*r*100/(p+r), 'total': total, 'format error': format_error}"
   ]
  },
  {
   "cell_type": "code",
   "execution_count": 20,
   "metadata": {},
   "outputs": [
    {
     "name": "stdout",
     "output_type": "stream",
     "text": [
      "total: 47, format error: 0\n",
      "llmbar_gptout accuracy: 48.94, F1 score: 33.03\n"
     ]
    }
   ],
   "source": [
    "# llmbar_gptout\n",
    "dataset_name = 'llmbar_gptout'\n",
    "response_file_path = f'/root/LLM-as-a-judge/datasets/LLMBar/Adversarial/GPTOut/{model_name}/dataset_own_prompt_response.json'\n",
    "with open(response_file_path, 'r') as f:\n",
    "    allin = f.readlines()\n",
    "    total = 0\n",
    "    result = [[0 for _ in range(3)] for _ in range(3)]\n",
    "    format_error = 0\n",
    "    for line in allin:\n",
    "        line_json = json.loads(line)\n",
    "        label = line_json['label']\n",
    "        pred_ = line_json['pred_label']\n",
    "        if '[1]' in pred_:\n",
    "            pred = 1\n",
    "        elif '[2]' in pred_:\n",
    "            pred = 2\n",
    "        elif '[0]' in pred_:\n",
    "            pred = 0\n",
    "        else:\n",
    "            format_error += 1\n",
    "            continue\n",
    "        result[label][pred] += 1\n",
    "        total += 1\n",
    "    accuracy, p, r = evaluation(result, total)\n",
    "    print(f'total: {len(allin)}, format error: {format_error}')\n",
    "    print(\"%s accuracy: %.2f, F1 score: %.2f\"%(dataset_name, accuracy, 2*p*r*100/(p+r)))\n",
    "    evaluation_result[dataset_name] = {'accuracy': accuracy, 'f1 score': 2*p*r*100/(p+r), 'total': total, 'format error': format_error}"
   ]
  },
  {
   "cell_type": "code",
   "execution_count": 21,
   "metadata": {},
   "outputs": [
    {
     "name": "stdout",
     "output_type": "stream",
     "text": [
      "total: 46, format error: 0\n",
      "llmbar_manual accuracy: 30.43, F1 score: 20.35\n"
     ]
    }
   ],
   "source": [
    "# llmbar_manual\n",
    "dataset_name = 'llmbar_manual'\n",
    "response_file_path = f'/root/LLM-as-a-judge/datasets/LLMBar/Adversarial/Manual/{model_name}/dataset_own_prompt_response.json'\n",
    "with open(response_file_path, 'r') as f:\n",
    "    allin = f.readlines()\n",
    "    total = 0\n",
    "    result = [[0 for _ in range(3)] for _ in range(3)]\n",
    "    format_error = 0\n",
    "    for line in allin:\n",
    "        line_json = json.loads(line)\n",
    "        label = line_json['label']\n",
    "        pred_ = line_json['pred_label']\n",
    "        if '[1]' in pred_:\n",
    "            pred = 1\n",
    "        elif '[2]' in pred_:\n",
    "            pred = 2\n",
    "        elif '[0]' in pred_:\n",
    "            pred = 0\n",
    "        else:\n",
    "            format_error += 1\n",
    "            continue\n",
    "        result[label][pred] += 1\n",
    "        total += 1\n",
    "    accuracy, p, r = evaluation(result, total)\n",
    "    print(f'total: {len(allin)}, format error: {format_error}')\n",
    "    print(\"%s accuracy: %.2f, F1 score: %.2f\"%(dataset_name, accuracy, 2*p*r*100/(p+r)))\n",
    "    evaluation_result[dataset_name] = {'accuracy': accuracy, 'f1 score': 2*p*r*100/(p+r), 'total': total, 'format error': format_error}"
   ]
  },
  {
   "cell_type": "code",
   "execution_count": 22,
   "metadata": {},
   "outputs": [
    {
     "name": "stdout",
     "output_type": "stream",
     "text": [
      "total: 3355, format error: 0\n",
      "mt-bench accuracy: 57.97, F1 score: 56.31\n"
     ]
    }
   ],
   "source": [
    "# mt-bench\n",
    "dataset_name = 'mt-bench'\n",
    "response_file_path = f'/root/LLM-as-a-judge/datasets/MTBench/{model_name}/mt_bench_human_own_prompt_response.json'\n",
    "with open(response_file_path, 'r') as f:\n",
    "    allin = f.readlines()\n",
    "    total = 0\n",
    "    result = [[0 for _ in range(3)] for _ in range(3)]\n",
    "    format_error = 0\n",
    "    for line in allin:\n",
    "        line_json = json.loads(line)\n",
    "        winner = line_json['winner']\n",
    "        if winner == 'model_a':\n",
    "            label = 1\n",
    "        elif winner == 'model_b':\n",
    "            label = 2\n",
    "        elif winner == 'tie':\n",
    "            label = 0\n",
    "        else:\n",
    "            print('error')\n",
    "            continue\n",
    "        pred_ = line_json['pred_label']\n",
    "        if '[1]' in pred_:\n",
    "            pred = 1\n",
    "        elif '[2]' in pred_:\n",
    "            pred = 2\n",
    "        elif '[0]' in pred_:\n",
    "            pred = 0\n",
    "        else:\n",
    "            format_error += 1\n",
    "            continue\n",
    "        result[label][pred] += 1\n",
    "        total += 1\n",
    "    accuracy, p, r = evaluation(result, total)\n",
    "    print(f'total: {len(allin)}, format error: {format_error}')\n",
    "    print(\"%s accuracy: %.2f, F1 score: %.2f\"%(dataset_name, accuracy, 2*p*r*100/(p+r)))\n",
    "    evaluation_result[dataset_name] = {'accuracy': accuracy, 'f1 score': 2*p*r*100/(p+r), 'total': total, 'format error': format_error}"
   ]
  },
  {
   "cell_type": "code",
   "execution_count": 23,
   "metadata": {},
   "outputs": [],
   "source": [
    "average = {'f1 score' : 0, 'accuracy': 0, 'total': '', 'format error': 0}\n",
    "for key in evaluation_result:\n",
    "    average['f1 score'] += evaluation_result[key]['f1 score']\n",
    "    average['accuracy'] += evaluation_result[key]['accuracy']\n",
    "    average['format error'] += evaluation_result[key]['format error']\n",
    "average['f1 score'] /= 8\n",
    "average['accuracy'] /= 8\n",
    "average['format error'] /= 8\n",
    "evaluation_result['average'] = average\n",
    "result_df = pd.DataFrame(evaluation_result)\n",
    "result_df.to_excel(evaluation_out_path)"
   ]
  }
 ],
 "metadata": {
  "kernelspec": {
   "display_name": "judge",
   "language": "python",
   "name": "python3"
  },
  "language_info": {
   "codemirror_mode": {
    "name": "ipython",
    "version": 3
   },
   "file_extension": ".py",
   "mimetype": "text/x-python",
   "name": "python",
   "nbconvert_exporter": "python",
   "pygments_lexer": "ipython3",
   "version": "3.11.9"
  }
 },
 "nbformat": 4,
 "nbformat_minor": 2
}
